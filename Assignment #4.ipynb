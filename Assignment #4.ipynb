{
 "cells": [
  {
   "cell_type": "code",
   "execution_count": 37,
   "metadata": {},
   "outputs": [
    {
     "name": "stdout",
     "output_type": "stream",
     "text": [
      "First name: AADIL\n",
      "Last name: CHAN\n",
      "Age:  24\n",
      "City: Nawabshah\n"
     ]
    }
   ],
   "source": [
    "# Q.1\n",
    "# Use a dictionary to store information about a person you know. Store their first name, last name, age,\n",
    "# and the city in which they live. You should have keys such as first_name, last_name, age, and city. Print\n",
    "# each piece of information stored in your dictionary. Add a new key value pair about qualification then\n",
    "# update the qualification value to high academic level then delete it.\n",
    "\n",
    "my_dict = {'first_name':'AADIL', 'last_name': 'CHAN', 'age': 24, 'city': 'Nawabshah'}\n",
    "\n",
    "# Printing information\n",
    "print('First name: ' + my_dict['first_name'])\n",
    "print('Last name: ' + my_dict['last_name'])\n",
    "print('Age: ', my_dict.get('age'))\n",
    "print('City: ' + my_dict['city'])\n",
    "\n",
    "# adding a new key value pair\n",
    "my_dict['qualification'] = 'Medium'\n",
    "\n",
    "# updating qualification level\n",
    "my_dict['qualification'] = 'High'\n",
    "\n",
    "# deleting item\n",
    "del my_dict['qualification']\n",
    "\n"
   ]
  },
  {
   "cell_type": "code",
   "execution_count": 45,
   "metadata": {},
   "outputs": [
    {
     "name": "stdout",
     "output_type": "stream",
     "text": [
      "\n",
      "Karachi is in Pakistan.\n",
      "  It has a population of about 14 Million.\n",
      "  The City Of Lights\n",
      "\n",
      "Lahore is in Pakistan.\n",
      "  It has a population of about 12 Million.\n",
      "  The City Of Colleges\n",
      "\n",
      "Islamabad is in Pakistan.\n",
      "  It has a population of about 1 Million.\n",
      "  The Beautiful City Of Pakistan\n"
     ]
    }
   ],
   "source": [
    "# Q.2\n",
    "# Make a dictionary called cities. Use the names of three cities as keys in your dictionary. Create a\n",
    "# dictionary of information about each city and include the country that the city is in, its approximate\n",
    "# population, and one fact about that city. The keys for each city’s dictionary should be something like\n",
    "# country, population, and fact. Print the name of each city and all of the information you have stored\n",
    "# about it.\n",
    "\n",
    "cities = {\n",
    "    'Karachi': {\n",
    "        'country': 'Pakistan',\n",
    "        'population': '14 Million',\n",
    "        'fact': 'City of lights',\n",
    "        },\n",
    "    'Lahore': {\n",
    "        'country': 'Pakistan',\n",
    "        'population': '12 Million',\n",
    "        'fact': 'City of colleges',\n",
    "        },\n",
    "    'Islamabad': {\n",
    "        'country': 'Pakistan',\n",
    "        'population': '1 Million',\n",
    "        'fact': 'Beautiful city of Pakistan',\n",
    "        }\n",
    "    }\n",
    "\n",
    "for city, city_info in cities.items():\n",
    "    country = city_info['country'].title()\n",
    "    population = city_info['population']\n",
    "    mountains = city_info['fact'].title()\n",
    "\n",
    "    print(\"\\n\" + city.title() + \" is in \" + country + \".\")\n",
    "    print(\"  It has a population of about \" + str(population) + \".\")\n",
    "    print(\"  The \" + mountains)\n"
   ]
  },
  {
   "cell_type": "code",
   "execution_count": 2,
   "metadata": {},
   "outputs": [
    {
     "name": "stdout",
     "output_type": "stream",
     "text": [
      "What is your age?\n",
      "Enter 'quit' when you are finished. 23\n",
      "  Your ticket is $15.\n",
      "What is your age?\n",
      "Enter 'quit' when you are finished. quit\n"
     ]
    }
   ],
   "source": [
    "# Q. 3\n",
    "# A movie theater charges different ticket prices depending on a person’s age. If a person is under the age\n",
    "# of 3, the ticket is free; if they are between 3 and 12, the ticket is $10; and if they are over age 12, the\n",
    "# ticket is $15. Write a loop in which you ask users their age, and then tell them the cost of their movie\n",
    "# ticket.\n",
    "\n",
    "prompt = \"What is your age?\"\n",
    "prompt += \"\\nEnter 'quit' when you are finished. \"\n",
    "\n",
    "while True:\n",
    "    age = input(prompt)\n",
    "    if age == 'quit':\n",
    "        break\n",
    "    age = int(age)\n",
    "\n",
    "    if age < 3:\n",
    "        print(\"  You get in free!\")\n",
    "    elif age < 13:\n",
    "        print(\"  Your ticket is $10.\")\n",
    "    else:\n",
    "        print(\"  Your ticket is $15.\")"
   ]
  },
  {
   "cell_type": "code",
   "execution_count": 1,
   "metadata": {},
   "outputs": [
    {
     "name": "stdout",
     "output_type": "stream",
     "text": [
      "Python for programmers is one of my favorite books.\n"
     ]
    }
   ],
   "source": [
    "# Q. 4\n",
    "# Write a function called favorite_book() that accepts one parameter, title. The function should print a\n",
    "# message, such as One of my favorite books is Alice in Wonderland. Call the function, making sure to\n",
    "# include a book title as an argument in the function call.\n",
    "\n",
    "def favorite_book(title):\n",
    "    \"\"\"Display a message about someone's favorite book.\"\"\"\n",
    "    print(title + \" is one of my favorite books.\")\n",
    "\n",
    "favorite_book('Python for programmers')"
   ]
  },
  {
   "cell_type": "code",
   "execution_count": null,
   "metadata": {},
   "outputs": [
    {
     "name": "stdout",
     "output_type": "stream",
     "text": [
      "Hello! What is your name?\n",
      "AADIL\n",
      "Well, AADIL, I am thinking of a number between 1 and 20.\n",
      "Take a guess.\n",
      "13\n",
      "Your guess is too high.\n",
      "Take a guess.\n",
      "20\n",
      "Your guess is too high.\n",
      "Take a guess.\n",
      "10\n",
      "Your guess is too high.\n",
      "Take a guess.\n",
      "8\n",
      "Your guess is too high.\n",
      "Take a guess.\n",
      "14\n",
      "Your guess is too high.\n",
      "Take a guess.\n"
     ]
    }
   ],
   "source": [
    "#Q. 5\n",
    "# Guess the number game\n",
    "# Write a program which randomly generate a number between 1 to 30 and ask the user in input field to\n",
    "# guess the correct number. Give three chances to user guess the number and also give hint to user if\n",
    "# hidden number is greater or smaller than the number he given to input field.\n",
    "\n",
    "# This is a guess the number game.\n",
    "\n",
    "import random\n",
    "\n",
    "guessesTaken = 0\n",
    "print('Hello! What is your name?')\n",
    "myName = input()\n",
    "number = random.randint(1, 20)\n",
    "print('Well, ' + myName + ', I am thinking of a number between 1 and 20.')\n",
    "while guessesTaken < 6:\n",
    "    print('Take a guess.') # There are four spaces in front of print.\n",
    "    guess = input()\n",
    "    guess = int(guess)\n",
    "    guessesTaken = guessesTaken + 1\n",
    "\n",
    "    if guess < number:\n",
    "        print('Your guess is too low.') # There are eight spaces in front of print.\n",
    "    \n",
    "    if guess > number:\n",
    "        print('Your guess is too high.')\n",
    "\n",
    "    if guess == number:\n",
    "        break\n",
    "    \n",
    "if guess == number:\n",
    "    guessesTaken = str(guessesTaken)\n",
    "    print('Good job, ' + myName + '! You guessed my number in ' + guessesTaken + ' guesses!')\n",
    "\n",
    "if guess != number:\n",
    "    number = str(number)\n",
    "    print('Nope. The number I was thinking of was ' + number)"
   ]
  },
  {
   "cell_type": "code",
   "execution_count": null,
   "metadata": {},
   "outputs": [],
   "source": []
  }
 ],
 "metadata": {
  "kernelspec": {
   "display_name": "Python 3",
   "language": "python",
   "name": "python3"
  },
  "language_info": {
   "codemirror_mode": {
    "name": "ipython",
    "version": 3
   },
   "file_extension": ".py",
   "mimetype": "text/x-python",
   "name": "python",
   "nbconvert_exporter": "python",
   "pygments_lexer": "ipython3",
   "version": "3.7.4"
  }
 },
 "nbformat": 4,
 "nbformat_minor": 2
}
